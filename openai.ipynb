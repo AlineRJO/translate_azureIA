!pip install requests beautifulsoup4 openai langchain-openai

import requests
from bs4 import BeautifulSoup

def extract_text_from_url(url):
    response = requests.get(url)

    if response.status_code == 200:
      soup = BeautifulSoup(response.text, 'html.parser') #gera um arquivo temporário em html
      for script_or_style in soup(["script", "style"]):
        script_or_style.decompose()  # Remove scripts e estilos
        texto = soup.get_text(separator=' ')

        #limpar linhas
        linhas = (line.strip() for line in texto.splitlines())
        partes = (phrase.strip() for line in linhas for phrase in line.split("  "))
        texto_limpo = '\n'.join(parte for parte in partes if parte)

      return texto_limpo
    else:
        print(f"Erro ao acessar a URL: {response.status_code}")
        return None


    text = soup.get_text()
    return text

extract_text_from_url('https://dev.to/eleftheriabatsou/css-selectors-unlocking-advanced-selectors-for-modern-web-design-2j12')

from langchain_openai.chat_models.azure import AzureChatOpenAI

client = AzureChatOpenAI(
    azure_endpoint="https://openai-dio-bootcamp-alinerjo.openai.azure.com/",
    api_key="your_key",
    api_version="2024-02-15-preview",
    azure_deployment="gpt-4o-mini",
#se não traduzir de primeira nao ficar tentando para nao ficar usando o meu limite de taxa
    max_retries=0
)

def translate_article(text, lang):
  messages = [
      ("system", "Você atua como tradutor de textos"),
      ("user", f"Traduza o {text} para o idioma {lang} e responda em markdown")
  ]

  response = client.invoke(messages)
  print(response.content)
  return response.content

translate_article("CSS Selectors", "portugues")

url="https://dev.to/eleftheriabatsou/css-selectors-unlocking-advanced-selectors-for-modern-web-design-2j12"
text = extract_text_from_url(url)
article = translate_article(text, "pt-br")
print(article)

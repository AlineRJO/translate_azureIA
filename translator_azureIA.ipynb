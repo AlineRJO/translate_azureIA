{
  "nbformat": 4,
  "nbformat_minor": 0,
  "metadata": {
    "colab": {
      "provenance": [],
      "authorship_tag": "ABX9TyNARxqDc0i2U44JJZvKyCDS",
      "include_colab_link": true
    },
    "kernelspec": {
      "name": "python3",
      "display_name": "Python 3"
    },
    "language_info": {
      "name": "python"
    }
  },
  "cells": [
    {
      "cell_type": "markdown",
      "metadata": {
        "id": "view-in-github",
        "colab_type": "text"
      },
      "source": [
        "<a href=\"https://colab.research.google.com/github/AlineRJO/translate_azureIA/blob/main/translator_azureIA.ipynb\" target=\"_parent\"><img src=\"https://colab.research.google.com/assets/colab-badge.svg\" alt=\"Open In Colab\"/></a>"
      ]
    },
    {
      "cell_type": "code",
      "execution_count": null,
      "metadata": {
        "colab": {
          "base_uri": "https://localhost:8080/"
        },
        "id": "u9PH8IdwDxEQ",
        "outputId": "22ad2a3c-2adf-4921-80f0-00bc8532dd27"
      },
      "outputs": [
        {
          "output_type": "stream",
          "name": "stdout",
          "text": [
            "Requirement already satisfied: requests in /usr/local/lib/python3.10/dist-packages (2.32.3)\n",
            "Collecting python-docx\n",
            "  Downloading python_docx-1.1.2-py3-none-any.whl.metadata (2.0 kB)\n",
            "Requirement already satisfied: charset-normalizer<4,>=2 in /usr/local/lib/python3.10/dist-packages (from requests) (3.4.0)\n",
            "Requirement already satisfied: idna<4,>=2.5 in /usr/local/lib/python3.10/dist-packages (from requests) (3.10)\n",
            "Requirement already satisfied: urllib3<3,>=1.21.1 in /usr/local/lib/python3.10/dist-packages (from requests) (2.2.3)\n",
            "Requirement already satisfied: certifi>=2017.4.17 in /usr/local/lib/python3.10/dist-packages (from requests) (2024.8.30)\n",
            "Requirement already satisfied: lxml>=3.1.0 in /usr/local/lib/python3.10/dist-packages (from python-docx) (5.3.0)\n",
            "Requirement already satisfied: typing-extensions>=4.9.0 in /usr/local/lib/python3.10/dist-packages (from python-docx) (4.12.2)\n",
            "Downloading python_docx-1.1.2-py3-none-any.whl (244 kB)\n",
            "\u001b[2K   \u001b[90m━━━━━━━━━━━━━━━━━━━━━━━━━━━━━━━━━━━━━━━━\u001b[0m \u001b[32m244.3/244.3 kB\u001b[0m \u001b[31m12.2 MB/s\u001b[0m eta \u001b[36m0:00:00\u001b[0m\n",
            "\u001b[?25hInstalling collected packages: python-docx\n",
            "Successfully installed python-docx-1.1.2\n"
          ]
        }
      ],
      "source": [
        "!pip install requests python-docx"
      ]
    },
    {
      "cell_type": "code",
      "source": [
        "import requests\n",
        "from docx import Document\n",
        "import os\n",
        "\n",
        "subscription_key = \"6alCf6wsDcPJpN5lFipVcXzbmIfMGV4nn3sYa7fiGgGKBjUQlPsGJQQJ99AKACHYHv6XJ3w3AAAbACOGZdk7\"\n",
        "endpoint = 'https://api.cognitive.microsofttranslator.com'\n",
        "location = \"eastus2\"\n",
        "language_destination = 'pt-br'\n",
        "\n",
        "# def translate_document(text, target_language):\n",
        "def translator_text(text, target_language):\n",
        "\n",
        "  path = '/translate'\n",
        "  constructed_url = endpoint + path\n",
        "  headers = {\n",
        "      'Ocp-Apim-Subscription-Key': subscription_key,\n",
        "      'Ocp-Apim-Subscription-Region': location,\n",
        "      'Content-type': 'application/json',\n",
        "      'X-ClientTraceId': str(os.urandom(16)) # 16 bits\n",
        "  }\n",
        "\n",
        "  body = [{\n",
        "      'text': text\n",
        "  }]\n",
        "\n",
        "  params = {\n",
        "      'api-version': '3.0',\n",
        "      'from': 'en', # idioma do texto\n",
        "      'to': target_language\n",
        "  }\n",
        "\n",
        "  request = requests.post(constructed_url, params=params, headers=headers, json=body)\n",
        "  response = request.json()\n",
        "  translated_text = response[0]['translations'][0]['text']\n",
        "\n",
        "  return translated_text"
      ],
      "metadata": {
        "id": "2ENda5V6HNvb"
      },
      "execution_count": null,
      "outputs": []
    },
    {
      "cell_type": "code",
      "source": [
        "from google.colab import drive\n",
        "drive.mount('/content/drive')"
      ],
      "metadata": {
        "id": "37FnKDiA9Twt"
      },
      "execution_count": null,
      "outputs": []
    },
    {
      "cell_type": "code",
      "source": [
        "translator_text('On a cobweb afternoon In a room full of emptiness', language_destination)"
      ],
      "metadata": {
        "colab": {
          "base_uri": "https://localhost:8080/",
          "height": 35
        },
        "id": "KOioK6-kHrgD",
        "outputId": "be058a1b-e32f-4d08-aa7b-c5c9be29ce09"
      },
      "execution_count": null,
      "outputs": [
        {
          "output_type": "execute_result",
          "data": {
            "text/plain": [
              "'Em uma tarde de teia de aranha Em uma sala cheia de vazio'"
            ],
            "application/vnd.google.colaboratory.intrinsic+json": {
              "type": "string"
            }
          },
          "metadata": {},
          "execution_count": 7
        }
      ]
    },
    {
      "cell_type": "code",
      "source": [
        "import requests\n",
        "from docx import Document\n",
        "import os\n",
        "\n",
        "def translate_document(path):\n",
        "  print('Caminho absoluto do arquivo de entrada:', os.path.abspath(path))\n",
        "\n",
        "   # Check if the file exists before attempting to open it\n",
        "  if not os.path.exists(path):\n",
        "    print('arquivo nào encontrado')\n",
        "    raise FileNotFoundError(f\"Arquivo não encontrado em: {path}\")\n",
        "\n",
        "  document = Document(path)\n",
        "  full_text = []\n",
        "  for paragraph in document.paragraphs:\n",
        "    translated_text = translator_text(paragraph.text, language_destination) #traduz cada linha\n",
        "    full_text.append(translated_text)\n",
        "\n",
        "  translated_document = Document()\n",
        "  for line in full_text:\n",
        "    translated_document.add_paragraph(line)\n",
        "\n",
        "  path_translated_document =  path.replace('.docx', f'_{language_destination}.docx') #concatenar o nome do novo arquivo traduzido\n",
        "  translated_document.save(path_translated_document)\n",
        "  return path_translated_document\n",
        "\n",
        "input_file = \"/content/Musica.docx\"\n",
        "translate_document(input_file)"
      ],
      "metadata": {
        "id": "yw0-3l99RuoA"
      },
      "execution_count": null,
      "outputs": []
    }
  ]
}